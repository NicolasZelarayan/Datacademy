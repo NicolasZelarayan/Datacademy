{
 "cells": [
  {
   "cell_type": "markdown",
   "source": "# Análisis de los 25 retailers más grandes de Estados Unidos",
   "metadata": {
    "cell_id": "1df879a0-53cd-4031-a50b-2c2fe17304a4",
    "tags": [],
    "is_collapsed": false,
    "deepnote_cell_height": 186,
    "deepnote_app_coordinates": {
     "x": 0,
     "y": 168,
     "w": 12,
     "h": 6
    },
    "deepnote_cell_type": "text-cell-h1"
   }
  },
  {
   "cell_type": "code",
   "metadata": {
    "tags": [],
    "cell_id": "3347a937-91c3-4305-b06c-213bb2f3bcaf",
    "deepnote_cell_height": 66,
    "deepnote_to_be_reexecuted": false,
    "source_hash": "647dbb17",
    "execution_start": 1645303026030,
    "execution_millis": 3921,
    "deepnote_app_coordinates": {
     "x": 0,
     "y": 175,
     "w": 12,
     "h": 6
    },
    "deepnote_app_is_code_hidden": true,
    "deepnote_cell_type": "code"
   },
   "source": "import pandas as pd\nimport numpy as np\nimport matplotlib.pyplot as plt\nimport seaborn as sns\nimport altair as alt",
   "execution_count": 2,
   "outputs": []
  },
  {
   "cell_type": "code",
   "metadata": {
    "cell_id": "081fdaf2-888a-4a54-9495-467464cfc400",
    "tags": [],
    "deepnote_cell_height": 66,
    "deepnote_to_be_reexecuted": false,
    "source_hash": "e161d496",
    "execution_start": 1645303033962,
    "execution_millis": 13,
    "deepnote_app_coordinates": {
     "x": 0,
     "y": 182,
     "w": 12,
     "h": 4
    },
    "deepnote_app_is_code_hidden": true,
    "deepnote_cell_type": "code"
   },
   "source": "df = pd.read_csv(\"/work/largest_us_retailers_9b00dc73-a938-46cd-af17-fcb2bd67301f.csv\")\ndf = df.fillna(0)",
   "execution_count": 3,
   "outputs": []
  },
  {
   "cell_type": "code",
   "source": "",
   "metadata": {
    "cell_id": "34f5042d-4bdb-4b83-9028-17dc95954574",
    "deepnote_app_coordinates": {
     "x": 0,
     "y": 187,
     "w": 12,
     "h": 3
    },
    "deepnote_to_be_reexecuted": false,
    "source_hash": "b623e53d",
    "execution_start": 1645250303428,
    "execution_millis": 5,
    "deepnote_cell_type": "visualization"
   },
   "execution_count": null,
   "outputs": []
  },
  {
   "cell_type": "markdown",
   "source": "## I. Preguntas del negocio",
   "metadata": {
    "cell_id": "cc141631-e246-41c7-a56b-ad74255d674f",
    "tags": [],
    "is_collapsed": false,
    "deepnote_cell_height": 70,
    "deepnote_app_coordinates": {
     "x": 0,
     "y": 191,
     "w": 12,
     "h": 3
    },
    "deepnote_cell_type": "text-cell-h2"
   }
  },
  {
   "cell_type": "markdown",
   "source": "### 1. ¿Cuál es el promedio de ventas sin contar a la compañía dominante?",
   "metadata": {
    "cell_id": "b919b92e-0df3-4f54-b093-c1db040bc4aa",
    "tags": [],
    "deepnote_cell_height": 94,
    "deepnote_app_coordinates": {
     "x": 0,
     "y": 195,
     "w": 12,
     "h": 4
    },
    "deepnote_cell_type": "markdown"
   }
  },
  {
   "cell_type": "code",
   "metadata": {
    "cell_id": "cca2585b-9cc4-462b-8092-8a6640e718fc",
    "tags": [],
    "deepnote_to_be_reexecuted": false,
    "source_hash": "a1bfb3d4",
    "execution_start": 1645303037921,
    "execution_millis": 2,
    "is_code_hidden": false,
    "deepnote_app_coordinates": {
     "x": 0,
     "y": 200,
     "w": 12,
     "h": 5
    },
    "deepnote_app_is_code_hidden": true,
    "deepnote_cell_type": "code"
   },
   "source": "mean_df = df['Sales'][1:].mean()\nprint(mean_df)",
   "execution_count": 4,
   "outputs": [
    {
     "name": "stdout",
     "text": "46602.416666666664\n",
     "output_type": "stream"
    }
   ]
  },
  {
   "cell_type": "code",
   "source": "alt.Chart(df).mark_bar().encode( \n    \n    y='Sales', \n    \n    x='Company'\n)",
   "metadata": {
    "cell_id": "5447386a-ea18-43da-955c-171828169752",
    "tags": [],
    "deepnote_app_coordinates": {
     "x": 0,
     "y": 0,
     "w": 12,
     "h": 5
    },
    "deepnote_to_be_reexecuted": false,
    "source_hash": "4d2f9122",
    "execution_start": 1645304390714,
    "execution_millis": 331,
    "deepnote_cell_type": "code"
   },
   "outputs": [
    {
     "output_type": "execute_result",
     "execution_count": 28,
     "data": {
      "text/html": "\n<div id=\"altair-viz-06cffc6eed304e8a8c2ac7625dec85af\"></div>\n<script type=\"text/javascript\">\n  (function(spec, embedOpt){\n    let outputDiv = document.currentScript.previousElementSibling;\n    if (outputDiv.id !== \"altair-viz-06cffc6eed304e8a8c2ac7625dec85af\") {\n      outputDiv = document.getElementById(\"altair-viz-06cffc6eed304e8a8c2ac7625dec85af\");\n    }\n    const paths = {\n      \"vega\": \"https://cdn.jsdelivr.net/npm//vega@5?noext\",\n      \"vega-lib\": \"https://cdn.jsdelivr.net/npm//vega-lib?noext\",\n      \"vega-lite\": \"https://cdn.jsdelivr.net/npm//vega-lite@4.8.1?noext\",\n      \"vega-embed\": \"https://cdn.jsdelivr.net/npm//vega-embed@6?noext\",\n    };\n\n    function loadScript(lib) {\n      return new Promise(function(resolve, reject) {\n        var s = document.createElement('script');\n        s.src = paths[lib];\n        s.async = true;\n        s.onload = () => resolve(paths[lib]);\n        s.onerror = () => reject(`Error loading script: ${paths[lib]}`);\n        document.getElementsByTagName(\"head\")[0].appendChild(s);\n      });\n    }\n\n    function showError(err) {\n      outputDiv.innerHTML = `<div class=\"error\" style=\"color:red;\">${err}</div>`;\n      throw err;\n    }\n\n    function displayChart(vegaEmbed) {\n      vegaEmbed(outputDiv, spec, embedOpt)\n        .catch(err => showError(`Javascript Error: ${err.message}<br>This usually means there's a typo in your chart specification. See the javascript console for the full traceback.`));\n    }\n\n    if(typeof define === \"function\" && define.amd) {\n      requirejs.config({paths});\n      require([\"vega-embed\"], displayChart, err => showError(`Error loading script: ${err.message}`));\n    } else if (typeof vegaEmbed === \"function\") {\n      displayChart(vegaEmbed);\n    } else {\n      loadScript(\"vega\")\n        .then(() => loadScript(\"vega-lite\"))\n        .then(() => loadScript(\"vega-embed\"))\n        .catch(showError)\n        .then(() => displayChart(vegaEmbed));\n    }\n  })({\"config\": {\"view\": {\"continuousWidth\": 400, \"continuousHeight\": 300}}, \"data\": {\"name\": \"data-259f3a924890547a72ea49aea00cec7f\"}, \"mark\": \"bar\", \"encoding\": {\"x\": {\"type\": \"nominal\", \"field\": \"Company\"}, \"y\": {\"type\": \"quantitative\", \"field\": \"Sales\"}}, \"$schema\": \"https://vega.github.io/schema/vega-lite/v4.8.1.json\", \"datasets\": {\"data-259f3a924890547a72ea49aea00cec7f\": [{\"Company\": \"Walmart US\", \"Sales\": 658119, \"Stores\": 4574.0, \"Sales/Avg. Store\": 65.64972497, \"Store Count Growth\": 0.01284322409, \"Category\": \"Supercenters\"}, {\"Company\": \"Kroger\", \"Sales\": 115037, \"Stores\": 3931.0, \"Sales/Avg. Store\": 30.03184963, \"Store Count Growth\": 0.05388739946, \"Category\": \"Grocery\"}, {\"Company\": \"Costco\", \"Sales\": 90048, \"Stores\": 495.0, \"Sales/Avg. Store\": 187.7956204, \"Store Count Growth\": 0.06681034483, \"Category\": \"Warehouse Club\"}, {\"Company\": \"Home Depot\", \"Sales\": 83976, \"Stores\": 1965.0, \"Sales/Avg. Store\": 42.73587786, \"Store Count Growth\": 0.0, \"Category\": \"Home Improvement\"}, {\"Company\": \"Walgreen Boots\", \"Sales\": 78924, \"Stores\": 8002.0, \"Sales/Avg. Store\": 9.81092672, \"Store Count Growth\": -0.01051069618, \"Category\": \"Drug Stores\"}, {\"Company\": \"CVS incl. Target\", \"Sales\": 77792, \"Stores\": 9813.0, \"Sales/Avg. Store\": 8.825958702, \"Store Count Growth\": 0.2556621881, \"Category\": \"Drug Stores\"}, {\"Company\": \"Amazon\", \"Sales\": 71687, \"Stores\": 0.0, \"Sales/Avg. Store\": 0.0, \"Store Count Growth\": 0.0, \"Category\": \"Electronic/Mail Order\"}, {\"Company\": \"Target\", \"Sales\": 71208, \"Stores\": 1772.0, \"Sales/Avg. Store\": 39.98203257, \"Store Count Growth\": -0.01005586592, \"Category\": \"Supercenters\"}, {\"Company\": \"Lowe's\", \"Sales\": 60311, \"Stores\": 1828.0, \"Sales/Avg. Store\": 33.31179232, \"Store Count Growth\": 0.01952035694, \"Category\": \"Home Improvement\"}, {\"Company\": \"Albertsons\", \"Sales\": 56829, \"Stores\": 2326.0, \"Sales/Avg. Store\": 23.87773109, \"Store Count Growth\": -0.04437140509, \"Category\": \"Grocery\"}, {\"Company\": \"Sam's Club\", \"Sales\": 56828, \"Stores\": 655.0, \"Sales/Avg. Store\": 87.29339478, \"Store Count Growth\": 0.01236476043, \"Category\": \"Warehouse Clubs\"}, {\"Company\": \"Apple incl. Online\", \"Sales\": 37664, \"Stores\": 0.0, \"Sales/Avg. Store\": 0.0, \"Store Count Growth\": 0.0, \"Category\": 0}, {\"Company\": \"Best Buy\", \"Sales\": 34980, \"Stores\": 1389.0, \"Sales/Avg. Store\": 24.68595625, \"Store Count Growth\": -0.03875432526, \"Category\": \"Electronics\"}, {\"Company\": \"Publix\", \"Sales\": 34408, \"Stores\": 1351.0, \"Sales/Avg. Store\": 25.99773328, \"Store Count Growth\": 0.0424382716, \"Category\": \"Grocery\"}, {\"Company\": \"Rite Aid\", \"Sales\": 27486, \"Stores\": 4553.0, \"Sales/Avg. Store\": 6.025649457, \"Store Count Growth\": -0.003719912473, \"Category\": \"Drug Stores\"}, {\"Company\": \"Ahold\", \"Sales\": 26903, \"Stores\": 794.0, \"Sales/Avg. Store\": 34.446863, \"Store Count Growth\": 0.03385416667, \"Category\": \"Grocery\"}, {\"Company\": \"Macy's\", \"Sales\": 26028, \"Stores\": 889.0, \"Sales/Avg. Store\": 30.44210526, \"Store Count Growth\": 0.08282582217, \"Category\": \"Department Stores\"}, {\"Company\": \"TJX\", \"Sales\": 25012, \"Stores\": 2770.0, \"Sales/Avg. Store\": 9.369544859, \"Store Count Growth\": 0.07824056053, \"Category\": \"Apparel\"}, {\"Company\": \"Aldi\", \"Sales\": 24402, \"Stores\": 2021.0, \"Sales/Avg. Store\": 12.71599792, \"Store Count Growth\": 0.1122729774, \"Category\": \"Grocery\"}, {\"Company\": \"Dollar General\", \"Sales\": 22234, \"Stores\": 13350.0, \"Sales/Avg. Store\": 1.768884999, \"Store Count Growth\": 0.1324115701, \"Category\": \"Dollar Stores\"}, {\"Company\": \"Dollar Tree\", \"Sales\": 21464, \"Stores\": 14250.0, \"Sales/Avg. Store\": 1.56391854, \"Store Count Growth\": 0.07962724449, \"Category\": \"Dollar Stores\"}, {\"Company\": \"HEB\", \"Sales\": 21384, \"Stores\": 323.0, \"Sales/Avg. Store\": 66.825, \"Store Count Growth\": 0.01892744479, \"Category\": \"Grocery\"}, {\"Company\": \"Kohl's\", \"Sales\": 19060, \"Stores\": 1169.0, \"Sales/Avg. Store\": 16.35349635, \"Store Count Growth\": 0.006024096386, \"Category\": \"Department Stores\"}, {\"Company\": \"Delhaize\", \"Sales\": 18201, \"Stores\": 1280.0, \"Sales/Avg. Store\": 13.78341537, \"Store Count Growth\": -0.05951506245, \"Category\": \"Grocery\"}, {\"Company\": \"Meijer\", \"Sales\": 16592, \"Stores\": 231.0, \"Sales/Avg. Store\": 74.73873874, \"Store Count Growth\": 0.08450704225, \"Category\": \"Supercenters\"}]}}, {\"mode\": \"vega-lite\"});\n</script>",
      "text/plain": "alt.Chart(...)"
     },
     "metadata": {}
    }
   ],
   "execution_count": 28
  },
  {
   "cell_type": "markdown",
   "source": "En promedio las ventas de las compañías sin tener en cuenta a Walmart ya que sus datos podrían ser considerados anómalos para el fin de este promedio estadístico, haciendo esta separación se observa un promedio que ronda **46602.416666666664**",
   "metadata": {
    "cell_id": "5c51f2b5-c702-4b6f-ac78-838f01a472db",
    "tags": [],
    "deepnote_app_coordinates": {
     "x": 0,
     "y": 0,
     "w": 12,
     "h": 5
    },
    "deepnote_cell_type": "markdown"
   }
  },
  {
   "cell_type": "markdown",
   "source": "### 2. ¿Cuánto dinero en ventas generó la mayoría de las compañías?",
   "metadata": {
    "cell_id": "1814847a-365e-4bae-9fb9-6bed9b874b37",
    "tags": [],
    "deepnote_cell_height": 94,
    "deepnote_app_coordinates": {
     "x": 0,
     "y": 206,
     "w": 12,
     "h": 4
    },
    "deepnote_cell_type": "markdown"
   }
  },
  {
   "cell_type": "code",
   "metadata": {
    "cell_id": "892b54fe-2c6d-4536-8ad6-a09189053063",
    "tags": [],
    "deepnote_to_be_reexecuted": false,
    "source_hash": "4d2f9122",
    "execution_start": 1645304346152,
    "execution_millis": 36,
    "is_code_hidden": false,
    "deepnote_app_coordinates": {
     "x": 0,
     "y": 211,
     "w": 12,
     "h": 16
    },
    "deepnote_app_is_code_hidden": true,
    "deepnote_cell_type": "code"
   },
   "source": "alt.Chart(df).mark_bar().encode( \n    \n    y='Sales', \n    \n    x='Company'\n)",
   "execution_count": 26,
   "outputs": [
    {
     "output_type": "execute_result",
     "execution_count": 26,
     "data": {
      "text/html": "\n<div id=\"altair-viz-4d3eb2dce95848069e23ad9c599359c1\"></div>\n<script type=\"text/javascript\">\n  (function(spec, embedOpt){\n    let outputDiv = document.currentScript.previousElementSibling;\n    if (outputDiv.id !== \"altair-viz-4d3eb2dce95848069e23ad9c599359c1\") {\n      outputDiv = document.getElementById(\"altair-viz-4d3eb2dce95848069e23ad9c599359c1\");\n    }\n    const paths = {\n      \"vega\": \"https://cdn.jsdelivr.net/npm//vega@5?noext\",\n      \"vega-lib\": \"https://cdn.jsdelivr.net/npm//vega-lib?noext\",\n      \"vega-lite\": \"https://cdn.jsdelivr.net/npm//vega-lite@4.8.1?noext\",\n      \"vega-embed\": \"https://cdn.jsdelivr.net/npm//vega-embed@6?noext\",\n    };\n\n    function loadScript(lib) {\n      return new Promise(function(resolve, reject) {\n        var s = document.createElement('script');\n        s.src = paths[lib];\n        s.async = true;\n        s.onload = () => resolve(paths[lib]);\n        s.onerror = () => reject(`Error loading script: ${paths[lib]}`);\n        document.getElementsByTagName(\"head\")[0].appendChild(s);\n      });\n    }\n\n    function showError(err) {\n      outputDiv.innerHTML = `<div class=\"error\" style=\"color:red;\">${err}</div>`;\n      throw err;\n    }\n\n    function displayChart(vegaEmbed) {\n      vegaEmbed(outputDiv, spec, embedOpt)\n        .catch(err => showError(`Javascript Error: ${err.message}<br>This usually means there's a typo in your chart specification. See the javascript console for the full traceback.`));\n    }\n\n    if(typeof define === \"function\" && define.amd) {\n      requirejs.config({paths});\n      require([\"vega-embed\"], displayChart, err => showError(`Error loading script: ${err.message}`));\n    } else if (typeof vegaEmbed === \"function\") {\n      displayChart(vegaEmbed);\n    } else {\n      loadScript(\"vega\")\n        .then(() => loadScript(\"vega-lite\"))\n        .then(() => loadScript(\"vega-embed\"))\n        .catch(showError)\n        .then(() => displayChart(vegaEmbed));\n    }\n  })({\"config\": {\"view\": {\"continuousWidth\": 400, \"continuousHeight\": 300}}, \"data\": {\"name\": \"data-259f3a924890547a72ea49aea00cec7f\"}, \"mark\": \"bar\", \"encoding\": {\"x\": {\"type\": \"nominal\", \"field\": \"Company\"}, \"y\": {\"type\": \"quantitative\", \"field\": \"Sales\"}}, \"$schema\": \"https://vega.github.io/schema/vega-lite/v4.8.1.json\", \"datasets\": {\"data-259f3a924890547a72ea49aea00cec7f\": [{\"Company\": \"Walmart US\", \"Sales\": 658119, \"Stores\": 4574.0, \"Sales/Avg. Store\": 65.64972497, \"Store Count Growth\": 0.01284322409, \"Category\": \"Supercenters\"}, {\"Company\": \"Kroger\", \"Sales\": 115037, \"Stores\": 3931.0, \"Sales/Avg. Store\": 30.03184963, \"Store Count Growth\": 0.05388739946, \"Category\": \"Grocery\"}, {\"Company\": \"Costco\", \"Sales\": 90048, \"Stores\": 495.0, \"Sales/Avg. Store\": 187.7956204, \"Store Count Growth\": 0.06681034483, \"Category\": \"Warehouse Club\"}, {\"Company\": \"Home Depot\", \"Sales\": 83976, \"Stores\": 1965.0, \"Sales/Avg. Store\": 42.73587786, \"Store Count Growth\": 0.0, \"Category\": \"Home Improvement\"}, {\"Company\": \"Walgreen Boots\", \"Sales\": 78924, \"Stores\": 8002.0, \"Sales/Avg. Store\": 9.81092672, \"Store Count Growth\": -0.01051069618, \"Category\": \"Drug Stores\"}, {\"Company\": \"CVS incl. Target\", \"Sales\": 77792, \"Stores\": 9813.0, \"Sales/Avg. Store\": 8.825958702, \"Store Count Growth\": 0.2556621881, \"Category\": \"Drug Stores\"}, {\"Company\": \"Amazon\", \"Sales\": 71687, \"Stores\": 0.0, \"Sales/Avg. Store\": 0.0, \"Store Count Growth\": 0.0, \"Category\": \"Electronic/Mail Order\"}, {\"Company\": \"Target\", \"Sales\": 71208, \"Stores\": 1772.0, \"Sales/Avg. Store\": 39.98203257, \"Store Count Growth\": -0.01005586592, \"Category\": \"Supercenters\"}, {\"Company\": \"Lowe's\", \"Sales\": 60311, \"Stores\": 1828.0, \"Sales/Avg. Store\": 33.31179232, \"Store Count Growth\": 0.01952035694, \"Category\": \"Home Improvement\"}, {\"Company\": \"Albertsons\", \"Sales\": 56829, \"Stores\": 2326.0, \"Sales/Avg. Store\": 23.87773109, \"Store Count Growth\": -0.04437140509, \"Category\": \"Grocery\"}, {\"Company\": \"Sam's Club\", \"Sales\": 56828, \"Stores\": 655.0, \"Sales/Avg. Store\": 87.29339478, \"Store Count Growth\": 0.01236476043, \"Category\": \"Warehouse Clubs\"}, {\"Company\": \"Apple incl. Online\", \"Sales\": 37664, \"Stores\": 0.0, \"Sales/Avg. Store\": 0.0, \"Store Count Growth\": 0.0, \"Category\": 0}, {\"Company\": \"Best Buy\", \"Sales\": 34980, \"Stores\": 1389.0, \"Sales/Avg. Store\": 24.68595625, \"Store Count Growth\": -0.03875432526, \"Category\": \"Electronics\"}, {\"Company\": \"Publix\", \"Sales\": 34408, \"Stores\": 1351.0, \"Sales/Avg. Store\": 25.99773328, \"Store Count Growth\": 0.0424382716, \"Category\": \"Grocery\"}, {\"Company\": \"Rite Aid\", \"Sales\": 27486, \"Stores\": 4553.0, \"Sales/Avg. Store\": 6.025649457, \"Store Count Growth\": -0.003719912473, \"Category\": \"Drug Stores\"}, {\"Company\": \"Ahold\", \"Sales\": 26903, \"Stores\": 794.0, \"Sales/Avg. Store\": 34.446863, \"Store Count Growth\": 0.03385416667, \"Category\": \"Grocery\"}, {\"Company\": \"Macy's\", \"Sales\": 26028, \"Stores\": 889.0, \"Sales/Avg. Store\": 30.44210526, \"Store Count Growth\": 0.08282582217, \"Category\": \"Department Stores\"}, {\"Company\": \"TJX\", \"Sales\": 25012, \"Stores\": 2770.0, \"Sales/Avg. Store\": 9.369544859, \"Store Count Growth\": 0.07824056053, \"Category\": \"Apparel\"}, {\"Company\": \"Aldi\", \"Sales\": 24402, \"Stores\": 2021.0, \"Sales/Avg. Store\": 12.71599792, \"Store Count Growth\": 0.1122729774, \"Category\": \"Grocery\"}, {\"Company\": \"Dollar General\", \"Sales\": 22234, \"Stores\": 13350.0, \"Sales/Avg. Store\": 1.768884999, \"Store Count Growth\": 0.1324115701, \"Category\": \"Dollar Stores\"}, {\"Company\": \"Dollar Tree\", \"Sales\": 21464, \"Stores\": 14250.0, \"Sales/Avg. Store\": 1.56391854, \"Store Count Growth\": 0.07962724449, \"Category\": \"Dollar Stores\"}, {\"Company\": \"HEB\", \"Sales\": 21384, \"Stores\": 323.0, \"Sales/Avg. Store\": 66.825, \"Store Count Growth\": 0.01892744479, \"Category\": \"Grocery\"}, {\"Company\": \"Kohl's\", \"Sales\": 19060, \"Stores\": 1169.0, \"Sales/Avg. Store\": 16.35349635, \"Store Count Growth\": 0.006024096386, \"Category\": \"Department Stores\"}, {\"Company\": \"Delhaize\", \"Sales\": 18201, \"Stores\": 1280.0, \"Sales/Avg. Store\": 13.78341537, \"Store Count Growth\": -0.05951506245, \"Category\": \"Grocery\"}, {\"Company\": \"Meijer\", \"Sales\": 16592, \"Stores\": 231.0, \"Sales/Avg. Store\": 74.73873874, \"Store Count Growth\": 0.08450704225, \"Category\": \"Supercenters\"}]}}, {\"mode\": \"vega-lite\"});\n</script>",
      "text/plain": "alt.Chart(...)"
     },
     "metadata": {}
    }
   ]
  },
  {
   "cell_type": "markdown",
   "source": "El grafico muestra como las ventas casi en su totalidad (salvo el caso de walmart) se concentran abajo del monto de 200000, **siendo mas de 20 empresas de las 25 que comprenden el analisis se situan por debajo de los 100000**",
   "metadata": {
    "cell_id": "6788d37d-32c4-4b0b-b0f6-ea0a0b9b126f",
    "tags": [],
    "deepnote_app_coordinates": {
     "x": 0,
     "y": 5,
     "w": 12,
     "h": 5
    },
    "deepnote_cell_type": "markdown"
   }
  },
  {
   "cell_type": "markdown",
   "source": "### 3. ¿Cuántas tiendas tiene la mayoría de las compañías?",
   "metadata": {
    "cell_id": "9801295a-a27d-48af-ae87-c653cabd8f67",
    "tags": [],
    "deepnote_cell_height": 94,
    "deepnote_app_coordinates": {
     "x": 0,
     "y": 228,
     "w": 12,
     "h": 3
    },
    "deepnote_cell_type": "markdown"
   }
  },
  {
   "cell_type": "code",
   "metadata": {
    "cell_id": "1b08cd67-0beb-491c-8363-b91be4b2e749",
    "tags": [],
    "deepnote_to_be_reexecuted": false,
    "source_hash": "766cbf57",
    "execution_start": 1645305078868,
    "execution_millis": 401,
    "is_code_hidden": false,
    "deepnote_app_coordinates": {
     "x": 0,
     "y": 232,
     "w": 12,
     "h": 20
    },
    "deepnote_app_is_code_hidden": true,
    "deepnote_cell_type": "code"
   },
   "source": "sns.displot(df, x = 'Stores', bins=10,  kde=True)",
   "execution_count": 51,
   "outputs": [
    {
     "output_type": "execute_result",
     "execution_count": 51,
     "data": {
      "text/plain": "<seaborn.axisgrid.FacetGrid at 0x7fc058dd0750>"
     },
     "metadata": {}
    },
    {
     "data": {
      "text/plain": "<Figure size 360x360 with 1 Axes>",
      "image/png": "[encoded data removed]"
     },
     "metadata": {
      "needs_background": "light",
      "image/png": {
       "width": 352,
       "height": 352
      }
     },
     "output_type": "display_data"
    }
   ]
  },
  {
   "cell_type": "markdown",
   "source": "Mediante el grafico se logra ver que alrededor de la mitad de las compañias tenidas en cuenta para el analisis **poseen menos de 2000 tiendas fisicas cada una**.  ",
   "metadata": {
    "cell_id": "e5cd0bf7-edcd-4555-a793-6f23cf68bd34",
    "tags": [],
    "deepnote_app_coordinates": {
     "x": 0,
     "y": 0,
     "w": 12,
     "h": 5
    },
    "deepnote_cell_type": "markdown"
   }
  },
  {
   "cell_type": "markdown",
   "source": "### 4. ¿La cantidad de tiendas está relacionada con la cantidad de ventas? Es decir, ¿si una empresa tiene más tiendas tendrá más dinero de ventas?",
   "metadata": {
    "cell_id": "c9b5de28-cd12-4088-9bc0-93df660401f3",
    "tags": [],
    "deepnote_cell_height": 158,
    "deepnote_app_coordinates": {
     "x": 0,
     "y": 48,
     "w": 12,
     "h": 5
    },
    "deepnote_cell_type": "markdown"
   }
  },
  {
   "cell_type": "code",
   "metadata": {
    "cell_id": "72dda234-6fca-477e-a088-99682e9766a2",
    "tags": [],
    "deepnote_cell_height": 66,
    "deepnote_to_be_reexecuted": false,
    "source_hash": "95789dd8",
    "execution_start": 1645304574465,
    "execution_millis": 307,
    "deepnote_app_coordinates": {
     "x": 0,
     "y": 54,
     "w": 12,
     "h": 5
    },
    "deepnote_app_is_code_hidden": true,
    "deepnote_cell_type": "code"
   },
   "source": "x = df['Stores']\ny = df['Sales']\nplt.scatter(x,y)\nplt.title('ventas y cantidad de tiendas')",
   "execution_count": 31,
   "outputs": [
    {
     "output_type": "execute_result",
     "execution_count": 31,
     "data": {
      "text/plain": "Text(0.5, 1.0, 'ventas y cantidad de tiendas')"
     },
     "metadata": {}
    },
    {
     "data": {
      "text/plain": "<Figure size 432x288 with 1 Axes>",
      "image/png": "[encoded data removed]"
     },
     "metadata": {
      "needs_background": "light",
      "image/png": {
       "width": 393,
       "height": 264
      }
     },
     "output_type": "display_data"
    }
   ]
  },
  {
   "cell_type": "markdown",
   "source": "En este grafico comparamos la cantidad de ventas y como se relaciona con la cantidad de tiendas, podemos deducir que incluso las compañias sin tiendas fisicas logran mayor cantidad de ventas que aquellas que poseen el mayor numero de tiendas **por lo que no estaria estrechamente condicionado**",
   "metadata": {
    "cell_id": "4a03f626-3bf6-4a72-9bd2-fb734c0cf9c7",
    "tags": [],
    "deepnote_app_coordinates": {
     "x": 0,
     "y": 0,
     "w": 12,
     "h": 5
    },
    "deepnote_cell_type": "markdown"
   }
  },
  {
   "cell_type": "markdown",
   "source": "### 5. ¿Cuál es el rango que existe entre las ventas?",
   "metadata": {
    "cell_id": "d296130b-b739-4424-8c5d-8dc8b6fc8ee5",
    "tags": [],
    "deepnote_cell_height": 94,
    "deepnote_app_coordinates": {
     "x": 0,
     "y": 60,
     "w": 12,
     "h": 5
    },
    "deepnote_cell_type": "markdown"
   }
  },
  {
   "cell_type": "code",
   "metadata": {
    "cell_id": "277da6f7-0300-4156-91e5-9765eb1f3752",
    "tags": [],
    "deepnote_cell_height": 66,
    "deepnote_to_be_reexecuted": false,
    "source_hash": "1f7dd3a8",
    "execution_start": 1645305621172,
    "execution_millis": 3,
    "deepnote_app_coordinates": {
     "x": 0,
     "y": 66,
     "w": 12,
     "h": 5
    },
    "deepnote_app_is_code_hidden": true,
    "deepnote_cell_type": "code"
   },
   "source": "ventas_max = df['Sales'].max()\nventas_min = df['Sales'].min()\npromedio_ventas = (ventas_max - ventas_min)\nprint(promedio_ventas)",
   "execution_count": 63,
   "outputs": [
    {
     "name": "stdout",
     "text": "641527\n",
     "output_type": "stream"
    }
   ]
  },
  {
   "cell_type": "code",
   "source": "",
   "metadata": {
    "cell_id": "bb79423e-b516-49ac-8645-0de2fe397e95",
    "tags": [],
    "deepnote_app_coordinates": {
     "x": 0,
     "y": 0,
     "w": 12,
     "h": 5
    },
    "deepnote_to_be_reexecuted": false,
    "source_hash": "e64ea1d6",
    "execution_start": 1645305635188,
    "execution_millis": 187,
    "deepnote_cell_type": "code"
   },
   "outputs": [
    {
     "data": {
      "text/plain": "<Figure size 432x288 with 1 Axes>",
      "image/png": "[encoded data removed]"
     },
     "metadata": {
      "needs_background": "light",
      "image/png": {
       "width": 393,
       "height": 248
      }
     },
     "output_type": "display_data"
    }
   ],
   "execution_count": 64
  },
  {
   "cell_type": "markdown",
   "source": "### 6. ¿Cuáles son las 5 empresas que más tiendas físicas tienen? ¿Cuáles de ellas están dentro de las 5 empresas que más ventas tuvieron?",
   "metadata": {
    "cell_id": "6c36ddc3-51ef-4017-a6f9-06cbb8b970e4",
    "tags": [],
    "deepnote_cell_height": 158,
    "deepnote_app_coordinates": {
     "x": 0,
     "y": 72,
     "w": 12,
     "h": 5
    },
    "deepnote_cell_type": "markdown"
   }
  },
  {
   "cell_type": "code",
   "metadata": {
    "cell_id": "1295319d-09d0-42f0-9de0-ff0e689f400f",
    "tags": [],
    "deepnote_cell_height": 66,
    "deepnote_to_be_reexecuted": false,
    "source_hash": "84ed8f00",
    "execution_start": 1645250387381,
    "execution_millis": 243,
    "deepnote_app_coordinates": {
     "x": 0,
     "y": 78,
     "w": 12,
     "h": 5
    },
    "deepnote_app_is_code_hidden": true,
    "deepnote_cell_type": "code"
   },
   "source": "df_stores = df.sort_values('Stores', ascending=0)\nx = df_stores['Company'][0:5] \ny = df_stores['Stores'][0:5]\n\nplt.bar(x, y)\nplt.title('Top 5 commpañias con mas tiendas')\n\nplt.xticks(rotation='vertical') \nplt.show()",
   "execution_count": null,
   "outputs": [
    {
     "data": {
      "text/plain": "<Figure size 432x288 with 1 Axes>",
      "image/png": "[encoded data removed]"
     },
     "metadata": {
      "needs_background": "light",
      "image/png": {
       "width": 387,
       "height": 333
      }
     },
     "output_type": "display_data"
    }
   ]
  },
  {
   "cell_type": "code",
   "metadata": {
    "cell_id": "bdee4d87-3211-4239-9071-41078794e202",
    "tags": [],
    "deepnote_app_coordinates": {
     "x": 0,
     "y": 10,
     "w": 12,
     "h": 5
    },
    "deepnote_to_be_reexecuted": false,
    "source_hash": "cacb9f01",
    "execution_start": 1645250392288,
    "execution_millis": 214,
    "deepnote_app_is_code_hidden": true,
    "deepnote_cell_type": "code"
   },
   "source": "df_sorted = df.sort_values('Sales', ascending=0)\nx = df_sorted['Company'][0:5] \ny = df_sorted['Sales'][0:5]\n\nplt.bar(x, y)\nplt.title('Top 5 ventas')\n\nplt.xticks(rotation='vertical') \nplt.show()\n",
   "execution_count": null,
   "outputs": [
    {
     "data": {
      "text/plain": "<Figure size 432x288 with 1 Axes>",
      "image/png": "[encoded data removed]"
     },
     "metadata": {
      "needs_background": "light",
      "image/png": {
       "width": 393,
       "height": 333
      }
     },
     "output_type": "display_data"
    }
   ]
  },
  {
   "cell_type": "markdown",
   "source": "",
   "metadata": {
    "cell_id": "07de93a4-01b2-4800-8601-6f7187013000",
    "tags": [],
    "is_collapsed": false,
    "deepnote_app_coordinates": {
     "x": 0,
     "y": 15,
     "w": 8,
     "h": 2
    },
    "deepnote_cell_type": "text-cell-p"
   }
  },
  {
   "cell_type": "markdown",
   "source": "## II. Preguntas opcionales",
   "metadata": {
    "cell_id": "7d1d5db9-ad1d-4081-968b-bea1357e236a",
    "tags": [],
    "deepnote_cell_height": 70,
    "deepnote_app_coordinates": {
     "x": 0,
     "y": 84,
     "w": 12,
     "h": 5
    },
    "deepnote_cell_type": "markdown"
   }
  },
  {
   "cell_type": "markdown",
   "source": "### 7. ¿Qué categoría de compañía generó más ventas?",
   "metadata": {
    "cell_id": "27e5ddcb-8674-4809-844e-8c3442430be1",
    "tags": [],
    "deepnote_cell_height": 94,
    "deepnote_app_coordinates": {
     "x": 0,
     "y": 90,
     "w": 12,
     "h": 5
    },
    "deepnote_cell_type": "markdown"
   }
  },
  {
   "cell_type": "code",
   "metadata": {
    "cell_id": "fcc0ff72-f954-4023-b187-f43c7ecc77ce",
    "tags": [],
    "deepnote_cell_height": 66,
    "deepnote_to_be_reexecuted": false,
    "source_hash": "16a032d9",
    "execution_start": 1645253699376,
    "execution_millis": 221,
    "deepnote_app_coordinates": {
     "x": 0,
     "y": 96,
     "w": 12,
     "h": 5
    },
    "deepnote_app_is_code_hidden": true,
    "deepnote_cell_type": "code"
   },
   "source": "df_Categ = df.sort_values('Sales', ascending=0)\nx = df_stores['Category'][0:20]\ny = df_stores['Sales'][0:20]\n\nplt.bar(x, y)\nplt.title('Categorias y su cantidad de ventas')\n\nplt.xticks(rotation='vertical') \nplt.show()",
   "execution_count": null,
   "outputs": [
    {
     "data": {
      "text/plain": "<Figure size 432x288 with 1 Axes>",
      "image/png": "[encoded data removed]"
     },
     "metadata": {
      "needs_background": "light",
      "image/png": {
       "width": 393,
       "height": 353
      }
     },
     "output_type": "display_data"
    }
   ]
  },
  {
   "cell_type": "markdown",
   "source": "",
   "metadata": {
    "cell_id": "ac48718b-52a3-49ac-b3c4-7b57ff40736d",
    "tags": [],
    "deepnote_app_coordinates": {
     "x": 0,
     "y": 0,
     "w": 12,
     "h": 5
    },
    "deepnote_cell_type": "markdown"
   }
  },
  {
   "cell_type": "markdown",
   "source": "### 8. ¿Cuál es la compañía que en relación con su cantidad de tiendas físicas genera más ventas?",
   "metadata": {
    "cell_id": "33668883-9f01-485c-bdf9-822cd13ad952",
    "tags": [],
    "deepnote_cell_height": 126,
    "deepnote_app_coordinates": {
     "x": 0,
     "y": 102,
     "w": 12,
     "h": 5
    },
    "deepnote_cell_type": "markdown"
   }
  },
  {
   "cell_type": "code",
   "metadata": {
    "cell_id": "903008ff-c22d-431e-8130-a954a94b16e8",
    "tags": [],
    "deepnote_cell_height": 66,
    "deepnote_to_be_reexecuted": true,
    "source_hash": "b623e53d",
    "execution_start": 1645242157926,
    "execution_millis": 10420482,
    "deepnote_app_coordinates": {
     "x": 0,
     "y": 108,
     "w": 12,
     "h": 5
    },
    "deepnote_cell_type": "code"
   },
   "source": "",
   "execution_count": null,
   "outputs": []
  },
  {
   "cell_type": "markdown",
   "source": "### 9. ¿Cuáles compañías venden de forma exclusivamente online? ¿Sus ventas destacan sobre las que también tienen tiendas físicas?",
   "metadata": {
    "cell_id": "e9a00ffe-de8a-41f0-98e7-67b905d0d14f",
    "tags": [],
    "deepnote_cell_height": 158,
    "deepnote_app_coordinates": {
     "x": 0,
     "y": 114,
     "w": 12,
     "h": 5
    },
    "deepnote_cell_type": "markdown"
   }
  },
  {
   "cell_type": "code",
   "metadata": {
    "cell_id": "cb6d5d30-783d-44af-9c84-f31689cb3487",
    "tags": [],
    "deepnote_cell_height": 66,
    "deepnote_to_be_reexecuted": true,
    "source_hash": "b623e53d",
    "execution_start": 1645242157932,
    "execution_millis": 10420435,
    "deepnote_app_coordinates": {
     "x": 0,
     "y": 120,
     "w": 12,
     "h": 5
    },
    "deepnote_cell_type": "code"
   },
   "source": "",
   "execution_count": null,
   "outputs": []
  },
  {
   "cell_type": "markdown",
   "source": "## III. Tus propias preguntas",
   "metadata": {
    "cell_id": "58c80612-3fb2-4c71-9aab-813b121430a0",
    "tags": [],
    "deepnote_cell_height": 70,
    "deepnote_app_coordinates": {
     "x": 0,
     "y": 126,
     "w": 12,
     "h": 5
    },
    "deepnote_cell_type": "markdown"
   }
  },
  {
   "cell_type": "markdown",
   "source": "### 10. Pregunta",
   "metadata": {
    "cell_id": "fa60966b-7d95-43f0-9a1e-201f1373f1be",
    "tags": [],
    "deepnote_cell_height": 62,
    "deepnote_app_coordinates": {
     "x": 0,
     "y": 132,
     "w": 12,
     "h": 5
    },
    "deepnote_cell_type": "markdown"
   }
  },
  {
   "cell_type": "code",
   "metadata": {
    "cell_id": "52ea290f-004f-4aaa-8e1a-0d0908996b0a",
    "tags": [],
    "deepnote_cell_height": 66,
    "deepnote_to_be_reexecuted": true,
    "source_hash": "b623e53d",
    "execution_start": 1645242157976,
    "execution_millis": 10420437,
    "deepnote_app_coordinates": {
     "x": 0,
     "y": 138,
     "w": 12,
     "h": 5
    },
    "deepnote_cell_type": "code"
   },
   "source": "",
   "execution_count": null,
   "outputs": []
  },
  {
   "cell_type": "markdown",
   "source": "### 11. Pregunta",
   "metadata": {
    "cell_id": "83e0e566-969d-4872-b32d-915ac945a370",
    "tags": [],
    "deepnote_cell_height": 62,
    "deepnote_app_coordinates": {
     "x": 0,
     "y": 144,
     "w": 12,
     "h": 5
    },
    "deepnote_cell_type": "markdown"
   }
  },
  {
   "cell_type": "code",
   "metadata": {
    "cell_id": "04a6786e-fd39-4b41-b85c-0ecae003e4db",
    "tags": [],
    "deepnote_cell_height": 66,
    "deepnote_to_be_reexecuted": true,
    "source_hash": "b623e53d",
    "execution_start": 1645242157977,
    "execution_millis": 10420439,
    "deepnote_app_coordinates": {
     "x": 0,
     "y": 150,
     "w": 12,
     "h": 5
    },
    "deepnote_cell_type": "code"
   },
   "source": "",
   "execution_count": null,
   "outputs": []
  },
  {
   "cell_type": "markdown",
   "source": "### 12. Pregunta",
   "metadata": {
    "cell_id": "d5a17c31-5e8f-4d67-9679-c5705053de69",
    "tags": [],
    "deepnote_cell_height": 62,
    "deepnote_app_coordinates": {
     "x": 0,
     "y": 156,
     "w": 12,
     "h": 5
    },
    "deepnote_cell_type": "markdown"
   }
  },
  {
   "cell_type": "markdown",
   "source": "<a style='text-decoration:none;line-height:16px;display:flex;color:#5B5B62;padding:10px;justify-content:end;' href='https://deepnote.com?utm_source=created-in-deepnote-cell&projectId=ac6629bb-20e0-4e82-ab41-8043c9e6b485' target=\"_blank\">\n<img alt='Created in deepnote.com' style='display:inline;max-height:16px;margin:0px;margin-right:7.5px;' src='data:image/svg+xml;base64,PD94bWwgdmVyc2lvbj0iMS4wIiBlbmNvZGluZz0iVVRGLTgiPz4KPHN2ZyB3aWR0aD0iODBweCIgaGVpZ2h0PSI4MHB4IiB2aWV3Qm94PSIwIDAgODAgODAiIHZlcnNpb249IjEuMSIgeG1sbnM9Imh0dHA6Ly93d3cudzMub3JnLzIwMDAvc3ZnIiB4bWxuczp4bGluaz0iaHR0cDovL3d3dy53My5vcmcvMTk5OS94bGluayI+CiAgICA8IS0tIEdlbmVyYXRvcjogU2tldGNoIDU0LjEgKDc2NDkwKSAtIGh0dHBzOi8vc2tldGNoYXBwLmNvbSAtLT4KICAgIDx0aXRsZT5Hcm91cCAzPC90aXRsZT4KICAgIDxkZXNjPkNyZWF0ZWQgd2l0aCBTa2V0Y2guPC9kZXNjPgogICAgPGcgaWQ9IkxhbmRpbmciIHN0cm9rZT0ibm9uZSIgc3Ryb2tlLXdpZHRoPSIxIiBmaWxsPSJub25lIiBmaWxsLXJ1bGU9ImV2ZW5vZGQiPgogICAgICAgIDxnIGlkPSJBcnRib2FyZCIgdHJhbnNmb3JtPSJ0cmFuc2xhdGUoLTEyMzUuMDAwMDAwLCAtNzkuMDAwMDAwKSI+CiAgICAgICAgICAgIDxnIGlkPSJHcm91cC0zIiB0cmFuc2Zvcm09InRyYW5zbGF0ZSgxMjM1LjAwMDAwMCwgNzkuMDAwMDAwKSI+CiAgICAgICAgICAgICAgICA8cG9seWdvbiBpZD0iUGF0aC0yMCIgZmlsbD0iIzAyNjVCNCIgcG9pbnRzPSIyLjM3NjIzNzYyIDgwIDM4LjA0NzY2NjcgODAgNTcuODIxNzgyMiA3My44MDU3NTkyIDU3LjgyMTc4MjIgMzIuNzU5MjczOSAzOS4xNDAyMjc4IDMxLjY4MzE2ODMiPjwvcG9seWdvbj4KICAgICAgICAgICAgICAgIDxwYXRoIGQ9Ik0zNS4wMDc3MTgsODAgQzQyLjkwNjIwMDcsNzYuNDU0OTM1OCA0Ny41NjQ5MTY3LDcxLjU0MjI2NzEgNDguOTgzODY2LDY1LjI2MTk5MzkgQzUxLjExMjI4OTksNTUuODQxNTg0MiA0MS42NzcxNzk1LDQ5LjIxMjIyODQgMjUuNjIzOTg0Niw0OS4yMTIyMjg0IEMyNS40ODQ5Mjg5LDQ5LjEyNjg0NDggMjkuODI2MTI5Niw0My4yODM4MjQ4IDM4LjY0NzU4NjksMzEuNjgzMTY4MyBMNzIuODcxMjg3MSwzMi41NTQ0MjUgTDY1LjI4MDk3Myw2Ny42NzYzNDIxIEw1MS4xMTIyODk5LDc3LjM3NjE0NCBMMzUuMDA3NzE4LDgwIFoiIGlkPSJQYXRoLTIyIiBmaWxsPSIjMDAyODY4Ij48L3BhdGg+CiAgICAgICAgICAgICAgICA8cGF0aCBkPSJNMCwzNy43MzA0NDA1IEwyNy4xMTQ1MzcsMC4yNTcxMTE0MzYgQzYyLjM3MTUxMjMsLTEuOTkwNzE3MDEgODAsMTAuNTAwMzkyNyA4MCwzNy43MzA0NDA1IEM4MCw2NC45NjA0ODgyIDY0Ljc3NjUwMzgsNzkuMDUwMzQxNCAzNC4zMjk1MTEzLDgwIEM0Ny4wNTUzNDg5LDc3LjU2NzA4MDggNTMuNDE4MjY3Nyw3MC4zMTM2MTAzIDUzLjQxODI2NzcsNTguMjM5NTg4NSBDNTMuNDE4MjY3Nyw0MC4xMjg1NTU3IDM2LjMwMzk1NDQsMzcuNzMwNDQwNSAyNS4yMjc0MTcsMzcuNzMwNDQwNSBDMTcuODQzMDU4NiwzNy43MzA0NDA1IDkuNDMzOTE5NjYsMzcuNzMwNDQwNSAwLDM3LjczMDQ0MDUgWiIgaWQ9IlBhdGgtMTkiIGZpbGw9IiMzNzkzRUYiPjwvcGF0aD4KICAgICAgICAgICAgPC9nPgogICAgICAgIDwvZz4KICAgIDwvZz4KPC9zdmc+' > </img>\nCreated in <span style='font-weight:600;margin-left:4px;'>Deepnote</span></a>",
   "metadata": {
    "tags": [],
    "created_in_deepnote_cell": true,
    "deepnote_cell_type": "markdown"
   }
  }
 ],
 "nbformat": 4,
 "nbformat_minor": 2,
 "metadata": {
  "orig_nbformat": 2,
  "deepnote": {
   "is_reactive": false
  },
  "deepnote_notebook_id": "85b76ea9-ace4-4c85-8b21-59120be91703",
  "deepnote_execution_queue": [],
  "deepnote_app_layout": "article"
 }
}